{
  "metadata": {
    "kernelspec": {
      "name": "python",
      "display_name": "Python (Pyodide)",
      "language": "python"
    },
    "language_info": {
      "codemirror_mode": {
        "name": "python",
        "version": 3
      },
      "file_extension": ".py",
      "mimetype": "text/x-python",
      "name": "python",
      "nbconvert_exporter": "python",
      "pygments_lexer": "ipython3",
      "version": "3.8"
    }
  },
  "nbformat_minor": 5,
  "nbformat": 4,
  "cells": [
    {
      "id": "e6ef3815-7c84-4eec-b57b-16e7d399443e",
      "cell_type": "markdown",
      "source": "# Data Science Tools and Ecosystem",
      "metadata": {}
    },
    {
      "id": "1b8c14de-864e-4bd8-adbd-edf7f1e5b90d",
      "cell_type": "markdown",
      "source": "In this notebook, Data Science Tools and Ecosystem are summarized.",
      "metadata": {}
    },
    {
      "id": "f2a7cbe1-1276-457e-ac62-2d8b93ac36f9",
      "cell_type": "markdown",
      "source": "**Objectives:**\n- List popular languages used in data science\n- List commonly used libraries in data science\n- Show examples of arithmetic operations in Python",
      "metadata": {}
    },
    {
      "id": "66d53115-62ca-4765-a0ec-077fc5418e45",
      "cell_type": "markdown",
      "source": "## Author\nWassim Guilain Kassem",
      "metadata": {}
    },
    {
      "id": "8be1ae16-2c02-4134-98cd-cd6068383304",
      "cell_type": "markdown",
      "source": "Some of the popular languages that Data Scientists use are:\n1. Python\n2. Julia\n3. R",
      "metadata": {}
    },
    {
      "id": "fd316389-a58c-4479-ba2c-05fd18e28c3d",
      "cell_type": "markdown",
      "source": "Some of the commonly used libraries used by Data Scientists include:\n1. scikit-learn\n2. Numpy\n3. Scipy",
      "metadata": {}
    },
    {
      "id": "2b34edeb-a2b5-48b5-9bb4-3bcced68afbd",
      "cell_type": "markdown",
      "source": "| Data Science Tools |\n| ------------------ |\n| Jupyter Notebook   |\n| VSCode             |\n| Apache Spark       |",
      "metadata": {}
    },
    {
      "id": "6e576e4f-9c7e-4b20-b29c-cdf736f4151f",
      "cell_type": "markdown",
      "source": "### Below are a few examples of evaluating arithmetic expressions in Python",
      "metadata": {}
    },
    {
      "id": "03aeaba1-f63e-40ef-83f8-ea80485d777c",
      "cell_type": "code",
      "source": "# This a simple arithmetic expression to mutiply then add integers\n(3*4)+5",
      "metadata": {
        "trusted": true
      },
      "outputs": [
        {
          "execution_count": 3,
          "output_type": "execute_result",
          "data": {
            "text/plain": "17"
          },
          "metadata": {}
        }
      ],
      "execution_count": 3
    },
    {
      "id": "f7f49c72-e973-470d-bfe7-be9f88eee1dc",
      "cell_type": "code",
      "source": "# This will convert 200 minutes to hours by dividing by 60\n200 / 60",
      "metadata": {
        "trusted": true
      },
      "outputs": [
        {
          "execution_count": 4,
          "output_type": "execute_result",
          "data": {
            "text/plain": "3.3333333333333335"
          },
          "metadata": {}
        }
      ],
      "execution_count": 4
    }
  ]
}